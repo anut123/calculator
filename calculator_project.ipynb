{
 "cells": [
  {
   "cell_type": "code",
   "execution_count": 2,
   "id": "d9e2ea57",
   "metadata": {},
   "outputs": [
    {
     "name": "stdout",
     "output_type": "stream",
     "text": [
      "enter an operator(+ - * /):*\n",
      "enter the first number: 4\n",
      "enter the second number: 6\n",
      "24.0\n"
     ]
    }
   ],
   "source": [
    "operator = input(\"enter an operator(+ - * /):\")\n",
    "num1 = float(input(\"enter the first number: \"))\n",
    "num2 = float(input(\"enter the second number: \"))\n",
    "\n",
    "# conditional statement- \n",
    "if operator == \"+\":\n",
    "    result = num1 + num2\n",
    "    print(round(result,2))\n",
    "elif operator == \"-\":\n",
    "    result = num1 - num2\n",
    "    print(round(result,2))\n",
    "elif operator == \"*\":\n",
    "    result = num1 * num2\n",
    "    print(round(result,2))\n",
    "elif operator == \"/\":\n",
    "    result = num1 / num2\n",
    "    print(round(result,2))\n",
    "else:\n",
    "    print(f\"(operator)is not valid operator\")"
   ]
  },
  {
   "cell_type": "code",
   "execution_count": null,
   "id": "be8d54e8",
   "metadata": {},
   "outputs": [],
   "source": []
  },
  {
   "cell_type": "code",
   "execution_count": null,
   "id": "0027ab65",
   "metadata": {},
   "outputs": [],
   "source": []
  },
  {
   "cell_type": "code",
   "execution_count": null,
   "id": "0202140a",
   "metadata": {
    "collapsed": true
   },
   "outputs": [],
   "source": []
  }
 ],
 "metadata": {
  "kernelspec": {
   "display_name": "Python 3 (ipykernel)",
   "language": "python",
   "name": "python3"
  },
  "language_info": {
   "codemirror_mode": {
    "name": "ipython",
    "version": 3
   },
   "file_extension": ".py",
   "mimetype": "text/x-python",
   "name": "python",
   "nbconvert_exporter": "python",
   "pygments_lexer": "ipython3",
   "version": "3.9.12"
  }
 },
 "nbformat": 4,
 "nbformat_minor": 5
}
